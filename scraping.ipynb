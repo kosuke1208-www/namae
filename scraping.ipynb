{
  "nbformat": 4,
  "nbformat_minor": 0,
  "metadata": {
    "colab": {
      "provenance": [],
      "authorship_tag": "ABX9TyNdMa6S50R6nWiSrkS3nlCZ",
      "include_colab_link": true
    },
    "kernelspec": {
      "name": "python3",
      "display_name": "Python 3"
    },
    "language_info": {
      "name": "python"
    }
  },
  "cells": [
    {
      "cell_type": "markdown",
      "metadata": {
        "id": "view-in-github",
        "colab_type": "text"
      },
      "source": [
        "<a href=\"https://colab.research.google.com/github/kosuke1208-www/namae/blob/main/scraping.ipynb\" target=\"_parent\"><img src=\"https://colab.research.google.com/assets/colab-badge.svg\" alt=\"Open In Colab\"/></a>"
      ]
    },
    {
      "cell_type": "code",
      "execution_count": 1,
      "metadata": {
        "colab": {
          "base_uri": "https://localhost:8080/"
        },
        "id": "sGdTY0TnWbUa",
        "outputId": "c884beb5-f2b1-41c5-fe6c-47f46ca9560f"
      },
      "outputs": [
        {
          "output_type": "stream",
          "name": "stdout",
          "text": [
            "8\n"
          ]
        }
      ],
      "source": [
        "def add(x, y):\n",
        "    ans = x + y\n",
        "    return ans\n",
        "\n",
        "\n",
        "n = add(3, 5)\n",
        "print(n)"
      ]
    },
    {
      "cell_type": "code",
      "source": [
        "def add_integrate(x,y):\n",
        "    add=x+y\n",
        "    integrate=x*y\n",
        "    return add,integrate\n",
        "\n",
        "a,b=add_integrate(1,5)\n",
        "print(a)\n",
        "print(b)"
      ],
      "metadata": {
        "colab": {
          "base_uri": "https://localhost:8080/"
        },
        "id": "cfxTAvBRXIcR",
        "outputId": "4de53219-3d5f-452b-ae28-ce588ff069dc"
      },
      "execution_count": 2,
      "outputs": [
        {
          "output_type": "stream",
          "name": "stdout",
          "text": [
            "6\n",
            "5\n"
          ]
        }
      ]
    },
    {
      "cell_type": "code",
      "source": [
        "mylist = ['Japanese', 'English', 'French']\n",
        "language = 'Spanish'\n",
        "\n",
        "if language in mylist:\n",
        "    print('私は'+language+'を話せます')\n",
        "elif language not in mylist:\n",
        "    print('私は'+language+'を話せません')\n",
        "\n"
      ],
      "metadata": {
        "colab": {
          "base_uri": "https://localhost:8080/"
        },
        "id": "Zxg6Wpi7YTnB",
        "outputId": "ae414bd1-0679-45c3-b03e-4fe7c64aa274"
      },
      "execution_count": 4,
      "outputs": [
        {
          "output_type": "stream",
          "name": "stdout",
          "text": [
            "私はSpanishを話せません\n"
          ]
        }
      ]
    },
    {
      "cell_type": "code",
      "source": [
        "a = 100\n",
        "\n",
        "if a%3 == 0:\n",
        "    print(str(a)+'は3の倍数です')\n",
        "elif a%4 == 0:\n",
        "    print(str(a)+'は4の倍数です')\n",
        "elif a%5 == 0:\n",
        "    print(str(a)+'は5の倍数です')\n",
        "else:\n",
        "    print(str(a)+'は3の倍数でも4の倍数でも5の倍数でもありません')"
      ],
      "metadata": {
        "id": "RuKNpUNdZNQy"
      },
      "execution_count": null,
      "outputs": []
    },
    {
      "cell_type": "code",
      "source": [
        "a=100\n",
        "\n",
        "if a%3 ==0 and a%4==0 and a%5==0:\n",
        "   print(str(a)+'は3の倍数かつ4の倍数かつ5の倍数です')\n",
        "else:\n",
        "   print('error')\n"
      ],
      "metadata": {
        "colab": {
          "base_uri": "https://localhost:8080/"
        },
        "id": "jZ2-VUXOZQNu",
        "outputId": "2bec77b3-5705-4b9b-cd09-4be48976f9a2"
      },
      "execution_count": 6,
      "outputs": [
        {
          "output_type": "stream",
          "name": "stdout",
          "text": [
            "error\n"
          ]
        }
      ]
    },
    {
      "cell_type": "code",
      "source": [
        "k=1\n",
        "for i in range(1,10):\n",
        "  k*=i\n",
        "  print(k)\n",
        "\n",
        "  if k >= 100:\n",
        "    print('end')\n",
        "    break"
      ],
      "metadata": {
        "colab": {
          "base_uri": "https://localhost:8080/"
        },
        "id": "eHPhbWFib5hi",
        "outputId": "3d31d93d-c467-44cf-c1d4-5e448cb1bbe0"
      },
      "execution_count": 10,
      "outputs": [
        {
          "output_type": "stream",
          "name": "stdout",
          "text": [
            "1\n",
            "2\n",
            "6\n",
            "24\n",
            "120\n",
            "end\n"
          ]
        }
      ]
    },
    {
      "cell_type": "code",
      "source": [
        "def is_int(s):\n",
        "    try:\n",
        "        int(s)\n",
        "    except ValueError:\n",
        "        print('\"'+s+'\"は数字ではありません')\n",
        "\n",
        "num_1 = input('数字1を入力して下さい')\n",
        "is_int(num_1)\n",
        "num_2 = input('数字2を入力して下さい')\n",
        "is_int(num_2)\n",
        "\n",
        "\n"
      ],
      "metadata": {
        "colab": {
          "base_uri": "https://localhost:8080/"
        },
        "id": "K0-gsWVvdYRH",
        "outputId": "3b3a5059-3f1b-46cc-9f7e-5a30da67089c"
      },
      "execution_count": 12,
      "outputs": [
        {
          "name": "stdout",
          "output_type": "stream",
          "text": [
            "数字1を入力して下さい1\n",
            "数字2を入力して下さい4\n"
          ]
        }
      ]
    },
    {
      "cell_type": "code",
      "source": [
        "num_1,num_2 = int(num_1),int(num_2) \n",
        "\n",
        "for i range(num_1*num_2):\n",
        "  if i%num_1==0 and i%num_2==0:\n",
        "    print(i)\n",
        "    break"
      ],
      "metadata": {
        "colab": {
          "base_uri": "https://localhost:8080/",
          "height": 137
        },
        "id": "xcenRpLJgy1w",
        "outputId": "2cd22c73-3246-43d1-a787-8537cc90de61"
      },
      "execution_count": 14,
      "outputs": [
        {
          "output_type": "error",
          "ename": "SyntaxError",
          "evalue": "ignored",
          "traceback": [
            "\u001b[0;36m  File \u001b[0;32m\"<ipython-input-14-d10ba85310b2>\"\u001b[0;36m, line \u001b[0;32m3\u001b[0m\n\u001b[0;31m    for i range(num_1*num_2):\u001b[0m\n\u001b[0m          ^\u001b[0m\n\u001b[0;31mSyntaxError\u001b[0m\u001b[0;31m:\u001b[0m invalid syntax\n"
          ]
        }
      ]
    },
    {
      "cell_type": "code",
      "source": [
        "import csv\n",
        "\n",
        "#ファイルがなければ勝手に作成してくれる\n",
        "with open('/content/drive/My Drive/AI_laboratory_course/test.csv','w') as f:\n",
        "    writer = csv.writer(f)\n",
        "    writer.writerow(['Menu','stock', 'Price'])\n",
        "    writer.writerow(['スパム',10,500])\n",
        "    writer.writerow(['卵',20,168])\n",
        "    writer.writerow(['ベーコン',15,250])\n",
        "    writer.writerow(['レタス',5,200])\n",
        "    #writer.writerow(['total','',''])\n"
      ],
      "metadata": {
        "id": "Y8gIr-B_ho3g"
      },
      "execution_count": 17,
      "outputs": []
    },
    {
      "cell_type": "code",
      "source": [
        "from google.colab import drive\n",
        "drive.mount('/content/drive')"
      ],
      "metadata": {
        "colab": {
          "base_uri": "https://localhost:8080/"
        },
        "id": "wlHgNVVOhwk7",
        "outputId": "552544b3-21b2-4d2a-d506-add0e7dec51d"
      },
      "execution_count": 16,
      "outputs": [
        {
          "output_type": "stream",
          "name": "stdout",
          "text": [
            "Mounted at /content/drive\n"
          ]
        }
      ]
    },
    {
      "cell_type": "markdown",
      "source": [],
      "metadata": {
        "id": "6KdKCQMEjqM_"
      }
    },
    {
      "cell_type": "code",
      "source": [
        "import pandas as pd\n",
        "\n",
        "df = pd.read_csv('/content/drive/My Drive/AI_laboratory_course/test.csv', index_col=None, header =0,\n",
        "                     delimiter=r\",\\s*\", engine=\"python\")\n",
        "print(df)"
      ],
      "metadata": {
        "colab": {
          "base_uri": "https://localhost:8080/"
        },
        "id": "38ojxeTHjuJ0",
        "outputId": "8fcc928c-ac73-4348-fa87-573a7af586c1"
      },
      "execution_count": 18,
      "outputs": [
        {
          "output_type": "stream",
          "name": "stdout",
          "text": [
            "   Menu  stock  Price\n",
            "0   スパム     10    500\n",
            "1     卵     20    168\n",
            "2  ベーコン     15    250\n",
            "3   レタス      5    200\n"
          ]
        }
      ]
    },
    {
      "cell_type": "code",
      "source": [
        "print(df.iloc[:, 1:3])"
      ],
      "metadata": {
        "colab": {
          "base_uri": "https://localhost:8080/"
        },
        "id": "7oMn4NzSjxgX",
        "outputId": "4faf3f2e-3157-44e4-8af4-522e2dd991ae"
      },
      "execution_count": 19,
      "outputs": [
        {
          "output_type": "stream",
          "name": "stdout",
          "text": [
            "   stock  Price\n",
            "0     10    500\n",
            "1     20    168\n",
            "2     15    250\n",
            "3      5    200\n"
          ]
        }
      ]
    },
    {
      "cell_type": "code",
      "source": [
        "print(df.iloc[[0,2,3],:])"
      ],
      "metadata": {
        "colab": {
          "base_uri": "https://localhost:8080/"
        },
        "id": "vdXN5FUNkKkX",
        "outputId": "ef1d1df0-54b8-44da-acb7-7883f425b39d"
      },
      "execution_count": 21,
      "outputs": [
        {
          "output_type": "stream",
          "name": "stdout",
          "text": [
            "   Menu  stock  Price\n",
            "0   スパム     10    500\n",
            "2  ベーコン     15    250\n",
            "3   レタス      5    200\n"
          ]
        }
      ]
    },
    {
      "cell_type": "code",
      "source": [
        "!apt-get update\n",
        "!apt install chromium-chromedriver\n",
        "!cp /usr/lib/chromium-browser/chromedriver /usr/bin\n",
        "!pip install selenium==4.1.0"
      ],
      "metadata": {
        "colab": {
          "base_uri": "https://localhost:8080/",
          "height": 1000
        },
        "id": "DpIzgtsZnzSN",
        "outputId": "e58f8a7e-8048-4918-c3f4-0150691b62d9"
      },
      "execution_count": 22,
      "outputs": [
        {
          "output_type": "stream",
          "name": "stdout",
          "text": [
            "\r0% [Working]\r            \rGet:1 https://cloud.r-project.org/bin/linux/ubuntu bionic-cran40/ InRelease [3,626 B]\n",
            "\r0% [Connecting to archive.ubuntu.com (185.125.190.36)] [Waiting for headers] [1\r0% [Connecting to archive.ubuntu.com (185.125.190.36)] [Waiting for headers] [W\r0% [1 InRelease gpgv 3,626 B] [Connecting to archive.ubuntu.com (185.125.190.36\r                                                                               \rIgn:2 https://developer.download.nvidia.com/compute/machine-learning/repos/ubuntu1804/x86_64  InRelease\n",
            "Hit:3 https://developer.download.nvidia.com/compute/cuda/repos/ubuntu1804/x86_64  InRelease\n",
            "Hit:4 https://developer.download.nvidia.com/compute/machine-learning/repos/ubuntu1804/x86_64  Release\n",
            "Get:5 http://security.ubuntu.com/ubuntu bionic-security InRelease [88.7 kB]\n",
            "Hit:6 http://archive.ubuntu.com/ubuntu bionic InRelease\n",
            "Get:7 http://ppa.launchpad.net/c2d4u.team/c2d4u4.0+/ubuntu bionic InRelease [15.9 kB]\n",
            "Get:8 http://archive.ubuntu.com/ubuntu bionic-updates InRelease [88.7 kB]\n",
            "Hit:9 http://ppa.launchpad.net/cran/libgit2/ubuntu bionic InRelease\n",
            "Get:10 http://archive.ubuntu.com/ubuntu bionic-backports InRelease [83.3 kB]\n",
            "Hit:12 http://ppa.launchpad.net/deadsnakes/ppa/ubuntu bionic InRelease\n",
            "Hit:13 http://ppa.launchpad.net/graphics-drivers/ppa/ubuntu bionic InRelease\n",
            "Get:14 http://ppa.launchpad.net/c2d4u.team/c2d4u4.0+/ubuntu bionic/main Sources [2,240 kB]\n",
            "Get:15 http://security.ubuntu.com/ubuntu bionic-security/main amd64 Packages [3,145 kB]\n",
            "Get:16 http://archive.ubuntu.com/ubuntu bionic-updates/restricted amd64 Packages [1,412 kB]\n",
            "Get:17 http://security.ubuntu.com/ubuntu bionic-security/restricted amd64 Packages [1,371 kB]\n",
            "Get:18 http://security.ubuntu.com/ubuntu bionic-security/universe amd64 Packages [1,573 kB]\n",
            "Get:19 http://ppa.launchpad.net/c2d4u.team/c2d4u4.0+/ubuntu bionic/main amd64 Packages [1,145 kB]\n",
            "Get:20 http://archive.ubuntu.com/ubuntu bionic-updates/main amd64 Packages [3,568 kB]\n",
            "Get:21 http://archive.ubuntu.com/ubuntu bionic-updates/universe amd64 Packages [2,351 kB]\n",
            "Fetched 17.1 MB in 4s (4,116 kB/s)\n",
            "Reading package lists... Done\n",
            "Reading package lists... Done\n",
            "Building dependency tree       \n",
            "Reading state information... Done\n",
            "The following package was automatically installed and is no longer required:\n",
            "  libnvidia-common-460\n",
            "Use 'apt autoremove' to remove it.\n",
            "The following additional packages will be installed:\n",
            "  chromium-browser chromium-browser-l10n chromium-codecs-ffmpeg-extra\n",
            "Suggested packages:\n",
            "  webaccounts-chromium-extension unity-chromium-extension\n",
            "The following NEW packages will be installed:\n",
            "  chromium-browser chromium-browser-l10n chromium-chromedriver\n",
            "  chromium-codecs-ffmpeg-extra\n",
            "0 upgraded, 4 newly installed, 0 to remove and 31 not upgraded.\n",
            "Need to get 95.6 MB of archives.\n",
            "After this operation, 321 MB of additional disk space will be used.\n",
            "Get:1 http://archive.ubuntu.com/ubuntu bionic-updates/universe amd64 chromium-codecs-ffmpeg-extra amd64 108.0.5359.71-0ubuntu0.18.04.5 [1,159 kB]\n",
            "Get:2 http://archive.ubuntu.com/ubuntu bionic-updates/universe amd64 chromium-browser amd64 108.0.5359.71-0ubuntu0.18.04.5 [83.6 MB]\n",
            "Get:3 http://archive.ubuntu.com/ubuntu bionic-updates/universe amd64 chromium-browser-l10n all 108.0.5359.71-0ubuntu0.18.04.5 [5,230 kB]\n",
            "Get:4 http://archive.ubuntu.com/ubuntu bionic-updates/universe amd64 chromium-chromedriver amd64 108.0.5359.71-0ubuntu0.18.04.5 [5,594 kB]\n",
            "Fetched 95.6 MB in 5s (19.6 MB/s)\n",
            "Selecting previously unselected package chromium-codecs-ffmpeg-extra.\n",
            "(Reading database ... 124016 files and directories currently installed.)\n",
            "Preparing to unpack .../chromium-codecs-ffmpeg-extra_108.0.5359.71-0ubuntu0.18.04.5_amd64.deb ...\n",
            "Unpacking chromium-codecs-ffmpeg-extra (108.0.5359.71-0ubuntu0.18.04.5) ...\n",
            "Selecting previously unselected package chromium-browser.\n",
            "Preparing to unpack .../chromium-browser_108.0.5359.71-0ubuntu0.18.04.5_amd64.deb ...\n",
            "Unpacking chromium-browser (108.0.5359.71-0ubuntu0.18.04.5) ...\n",
            "Selecting previously unselected package chromium-browser-l10n.\n",
            "Preparing to unpack .../chromium-browser-l10n_108.0.5359.71-0ubuntu0.18.04.5_all.deb ...\n",
            "Unpacking chromium-browser-l10n (108.0.5359.71-0ubuntu0.18.04.5) ...\n",
            "Selecting previously unselected package chromium-chromedriver.\n",
            "Preparing to unpack .../chromium-chromedriver_108.0.5359.71-0ubuntu0.18.04.5_amd64.deb ...\n",
            "Unpacking chromium-chromedriver (108.0.5359.71-0ubuntu0.18.04.5) ...\n",
            "Setting up chromium-codecs-ffmpeg-extra (108.0.5359.71-0ubuntu0.18.04.5) ...\n",
            "Setting up chromium-browser (108.0.5359.71-0ubuntu0.18.04.5) ...\n",
            "update-alternatives: using /usr/bin/chromium-browser to provide /usr/bin/x-www-browser (x-www-browser) in auto mode\n",
            "update-alternatives: using /usr/bin/chromium-browser to provide /usr/bin/gnome-www-browser (gnome-www-browser) in auto mode\n",
            "Setting up chromium-chromedriver (108.0.5359.71-0ubuntu0.18.04.5) ...\n",
            "Setting up chromium-browser-l10n (108.0.5359.71-0ubuntu0.18.04.5) ...\n",
            "Processing triggers for man-db (2.8.3-2ubuntu0.1) ...\n",
            "Processing triggers for hicolor-icon-theme (0.17-2) ...\n",
            "Processing triggers for mime-support (3.60ubuntu1) ...\n",
            "Processing triggers for libc-bin (2.27-3ubuntu1.6) ...\n",
            "cp: '/usr/lib/chromium-browser/chromedriver' and '/usr/bin/chromedriver' are the same file\n",
            "Looking in indexes: https://pypi.org/simple, https://us-python.pkg.dev/colab-wheels/public/simple/\n",
            "Collecting selenium==4.1.0\n",
            "  Downloading selenium-4.1.0-py3-none-any.whl (958 kB)\n",
            "\u001b[2K     \u001b[90m━━━━━━━━━━━━━━━━━━━━━━━━━━━━━━━━━━━━━━\u001b[0m \u001b[32m958.8/958.8 KB\u001b[0m \u001b[31m12.4 MB/s\u001b[0m eta \u001b[36m0:00:00\u001b[0m\n",
            "\u001b[?25hCollecting trio~=0.17\n",
            "  Downloading trio-0.22.0-py3-none-any.whl (384 kB)\n",
            "\u001b[2K     \u001b[90m━━━━━━━━━━━━━━━━━━━━━━━━━━━━━━━━━━━━━━\u001b[0m \u001b[32m384.9/384.9 KB\u001b[0m \u001b[31m24.6 MB/s\u001b[0m eta \u001b[36m0:00:00\u001b[0m\n",
            "\u001b[?25hCollecting trio-websocket~=0.9\n",
            "  Downloading trio_websocket-0.9.2-py3-none-any.whl (16 kB)\n",
            "Collecting urllib3[secure]~=1.26\n",
            "  Downloading urllib3-1.26.14-py2.py3-none-any.whl (140 kB)\n",
            "\u001b[2K     \u001b[90m━━━━━━━━━━━━━━━━━━━━━━━━━━━━━━━━━━━━━━\u001b[0m \u001b[32m140.6/140.6 KB\u001b[0m \u001b[31m12.7 MB/s\u001b[0m eta \u001b[36m0:00:00\u001b[0m\n",
            "\u001b[?25hRequirement already satisfied: sortedcontainers in /usr/local/lib/python3.8/dist-packages (from trio~=0.17->selenium==4.1.0) (2.4.0)\n",
            "Collecting async-generator>=1.9\n",
            "  Downloading async_generator-1.10-py3-none-any.whl (18 kB)\n",
            "Collecting outcome\n",
            "  Downloading outcome-1.2.0-py2.py3-none-any.whl (9.7 kB)\n",
            "Collecting exceptiongroup>=1.0.0rc9\n",
            "  Downloading exceptiongroup-1.1.0-py3-none-any.whl (14 kB)\n",
            "Requirement already satisfied: attrs>=19.2.0 in /usr/local/lib/python3.8/dist-packages (from trio~=0.17->selenium==4.1.0) (22.2.0)\n",
            "Collecting sniffio\n",
            "  Downloading sniffio-1.3.0-py3-none-any.whl (10 kB)\n",
            "Requirement already satisfied: idna in /usr/local/lib/python3.8/dist-packages (from trio~=0.17->selenium==4.1.0) (2.10)\n",
            "Collecting wsproto>=0.14\n",
            "  Downloading wsproto-1.2.0-py3-none-any.whl (24 kB)\n",
            "Requirement already satisfied: certifi in /usr/local/lib/python3.8/dist-packages (from urllib3[secure]~=1.26->selenium==4.1.0) (2022.12.7)\n",
            "Collecting cryptography>=1.3.4\n",
            "  Downloading cryptography-39.0.0-cp36-abi3-manylinux_2_24_x86_64.whl (4.1 MB)\n",
            "\u001b[2K     \u001b[90m━━━━━━━━━━━━━━━━━━━━━━━━━━━━━━━━━━━━━━━━\u001b[0m \u001b[32m4.1/4.1 MB\u001b[0m \u001b[31m36.5 MB/s\u001b[0m eta \u001b[36m0:00:00\u001b[0m\n",
            "\u001b[?25hCollecting pyOpenSSL>=0.14\n",
            "  Downloading pyOpenSSL-23.0.0-py3-none-any.whl (57 kB)\n",
            "\u001b[2K     \u001b[90m━━━━━━━━━━━━━━━━━━━━━━━━━━━━━━━━━━━━━━━━\u001b[0m \u001b[32m57.3/57.3 KB\u001b[0m \u001b[31m5.5 MB/s\u001b[0m eta \u001b[36m0:00:00\u001b[0m\n",
            "\u001b[?25hCollecting urllib3-secure-extra\n",
            "  Downloading urllib3_secure_extra-0.1.0-py2.py3-none-any.whl (1.4 kB)\n",
            "Requirement already satisfied: cffi>=1.12 in /usr/local/lib/python3.8/dist-packages (from cryptography>=1.3.4->urllib3[secure]~=1.26->selenium==4.1.0) (1.15.1)\n",
            "Collecting h11<1,>=0.9.0\n",
            "  Downloading h11-0.14.0-py3-none-any.whl (58 kB)\n",
            "\u001b[2K     \u001b[90m━━━━━━━━━━━━━━━━━━━━━━━━━━━━━━━━━━━━━━━━\u001b[0m \u001b[32m58.3/58.3 KB\u001b[0m \u001b[31m4.0 MB/s\u001b[0m eta \u001b[36m0:00:00\u001b[0m\n",
            "\u001b[?25hRequirement already satisfied: pycparser in /usr/local/lib/python3.8/dist-packages (from cffi>=1.12->cryptography>=1.3.4->urllib3[secure]~=1.26->selenium==4.1.0) (2.21)\n",
            "Installing collected packages: urllib3-secure-extra, urllib3, sniffio, outcome, h11, exceptiongroup, async-generator, wsproto, trio, cryptography, trio-websocket, pyOpenSSL, selenium\n",
            "  Attempting uninstall: urllib3\n",
            "    Found existing installation: urllib3 1.24.3\n",
            "    Uninstalling urllib3-1.24.3:\n",
            "      Successfully uninstalled urllib3-1.24.3\n",
            "Successfully installed async-generator-1.10 cryptography-39.0.0 exceptiongroup-1.1.0 h11-0.14.0 outcome-1.2.0 pyOpenSSL-23.0.0 selenium-4.1.0 sniffio-1.3.0 trio-0.22.0 trio-websocket-0.9.2 urllib3-1.26.14 urllib3-secure-extra-0.1.0 wsproto-1.2.0\n"
          ]
        },
        {
          "output_type": "display_data",
          "data": {
            "application/vnd.colab-display-data+json": {
              "pip_warning": {
                "packages": [
                  "urllib3"
                ]
              }
            }
          },
          "metadata": {}
        }
      ]
    },
    {
      "cell_type": "code",
      "source": [
        "!pip uninstall google_images_download\n",
        "!git clone https://github.com/Joeclinton1/google-images-download.git\n",
        "%cd google-images-download\n",
        "!python setup.py install"
      ],
      "metadata": {
        "colab": {
          "base_uri": "https://localhost:8080/"
        },
        "id": "AySucXHIoUW2",
        "outputId": "47083d61-d194-43a9-8656-4fe886714026"
      },
      "execution_count": 23,
      "outputs": [
        {
          "output_type": "stream",
          "name": "stdout",
          "text": [
            "\u001b[33mWARNING: Skipping google_images_download as it is not installed.\u001b[0m\u001b[33m\n",
            "\u001b[0mCloning into 'google-images-download'...\n",
            "remote: Enumerating objects: 758, done.\u001b[K\n",
            "remote: Counting objects: 100% (94/94), done.\u001b[K\n",
            "remote: Compressing objects: 100% (50/50), done.\u001b[K\n",
            "remote: Total 758 (delta 58), reused 66 (delta 44), pack-reused 664\u001b[K\n",
            "Receiving objects: 100% (758/758), 328.42 KiB | 4.00 MiB/s, done.\n",
            "Resolving deltas: 100% (446/446), done.\n",
            "/content/google-images-download\n",
            "/usr/local/lib/python3.8/dist-packages/setuptools/dist.py:697: UserWarning: Usage of dash-separated 'description-file' will not be supported in future versions. Please use the underscore name 'description_file' instead\n",
            "  warnings.warn(\n",
            "running install\n",
            "running bdist_egg\n",
            "running egg_info\n",
            "creating google_images_download.egg-info\n",
            "writing google_images_download.egg-info/PKG-INFO\n",
            "writing dependency_links to google_images_download.egg-info/dependency_links.txt\n",
            "writing entry points to google_images_download.egg-info/entry_points.txt\n",
            "writing requirements to google_images_download.egg-info/requires.txt\n",
            "writing top-level names to google_images_download.egg-info/top_level.txt\n",
            "writing manifest file 'google_images_download.egg-info/SOURCES.txt'\n",
            "reading manifest template 'MANIFEST.in'\n",
            "warning: no files found matching 'README.md'\n",
            "writing manifest file 'google_images_download.egg-info/SOURCES.txt'\n",
            "installing library code to build/bdist.linux-x86_64/egg\n",
            "running install_lib\n",
            "running build_py\n",
            "creating build\n",
            "creating build/lib\n",
            "creating build/lib/google_images_download\n",
            "copying google_images_download/google_images_download.py -> build/lib/google_images_download\n",
            "copying google_images_download/__main__.py -> build/lib/google_images_download\n",
            "copying google_images_download/__init__.py -> build/lib/google_images_download\n",
            "copying google_images_download/sample_config.json -> build/lib/google_images_download\n",
            "creating build/bdist.linux-x86_64\n",
            "creating build/bdist.linux-x86_64/egg\n",
            "creating build/bdist.linux-x86_64/egg/google_images_download\n",
            "copying build/lib/google_images_download/google_images_download.py -> build/bdist.linux-x86_64/egg/google_images_download\n",
            "copying build/lib/google_images_download/__main__.py -> build/bdist.linux-x86_64/egg/google_images_download\n",
            "copying build/lib/google_images_download/sample_config.json -> build/bdist.linux-x86_64/egg/google_images_download\n",
            "copying build/lib/google_images_download/__init__.py -> build/bdist.linux-x86_64/egg/google_images_download\n",
            "byte-compiling build/bdist.linux-x86_64/egg/google_images_download/google_images_download.py to google_images_download.cpython-38.pyc\n",
            "byte-compiling build/bdist.linux-x86_64/egg/google_images_download/__main__.py to __main__.cpython-38.pyc\n",
            "byte-compiling build/bdist.linux-x86_64/egg/google_images_download/__init__.py to __init__.cpython-38.pyc\n",
            "creating build/bdist.linux-x86_64/egg/EGG-INFO\n",
            "copying google_images_download.egg-info/PKG-INFO -> build/bdist.linux-x86_64/egg/EGG-INFO\n",
            "copying google_images_download.egg-info/SOURCES.txt -> build/bdist.linux-x86_64/egg/EGG-INFO\n",
            "copying google_images_download.egg-info/dependency_links.txt -> build/bdist.linux-x86_64/egg/EGG-INFO\n",
            "copying google_images_download.egg-info/entry_points.txt -> build/bdist.linux-x86_64/egg/EGG-INFO\n",
            "copying google_images_download.egg-info/requires.txt -> build/bdist.linux-x86_64/egg/EGG-INFO\n",
            "copying google_images_download.egg-info/top_level.txt -> build/bdist.linux-x86_64/egg/EGG-INFO\n",
            "zip_safe flag not set; analyzing archive contents...\n",
            "creating dist\n",
            "creating 'dist/google_images_download-2.8.0-py3.8.egg' and adding 'build/bdist.linux-x86_64/egg' to it\n",
            "removing 'build/bdist.linux-x86_64/egg' (and everything under it)\n",
            "Processing google_images_download-2.8.0-py3.8.egg\n",
            "Copying google_images_download-2.8.0-py3.8.egg to /usr/local/lib/python3.8/dist-packages\n",
            "Adding google-images-download 2.8.0 to easy-install.pth file\n",
            "Installing googleimagesdownload script to /usr/local/bin\n",
            "\n",
            "Installed /usr/local/lib/python3.8/dist-packages/google_images_download-2.8.0-py3.8.egg\n",
            "Processing dependencies for google-images-download==2.8.0\n",
            "Searching for selenium==4.1.0\n",
            "Best match: selenium 4.1.0\n",
            "Adding selenium 4.1.0 to easy-install.pth file\n",
            "\n",
            "Using /usr/local/lib/python3.8/dist-packages\n",
            "Searching for trio-websocket==0.9.2\n",
            "Best match: trio-websocket 0.9.2\n",
            "Adding trio-websocket 0.9.2 to easy-install.pth file\n",
            "\n",
            "Using /usr/local/lib/python3.8/dist-packages\n",
            "Searching for urllib3==1.26.14\n",
            "Best match: urllib3 1.26.14\n",
            "Adding urllib3 1.26.14 to easy-install.pth file\n",
            "\n",
            "Using /usr/local/lib/python3.8/dist-packages\n",
            "Searching for trio==0.22.0\n",
            "Best match: trio 0.22.0\n",
            "Adding trio 0.22.0 to easy-install.pth file\n",
            "\n",
            "Using /usr/local/lib/python3.8/dist-packages\n",
            "Searching for wsproto==1.2.0\n",
            "Best match: wsproto 1.2.0\n",
            "Adding wsproto 1.2.0 to easy-install.pth file\n",
            "\n",
            "Using /usr/local/lib/python3.8/dist-packages\n",
            "Searching for async-generator==1.10\n",
            "Best match: async-generator 1.10\n",
            "Adding async-generator 1.10 to easy-install.pth file\n",
            "\n",
            "Using /usr/local/lib/python3.8/dist-packages\n",
            "Searching for certifi==2022.12.7\n",
            "Best match: certifi 2022.12.7\n",
            "Adding certifi 2022.12.7 to easy-install.pth file\n",
            "\n",
            "Using /usr/local/lib/python3.8/dist-packages\n",
            "Searching for cryptography==39.0.0\n",
            "Best match: cryptography 39.0.0\n",
            "Adding cryptography 39.0.0 to easy-install.pth file\n",
            "\n",
            "Using /usr/local/lib/python3.8/dist-packages\n",
            "Searching for urllib3-secure-extra==0.1.0\n",
            "Best match: urllib3-secure-extra 0.1.0\n",
            "Adding urllib3-secure-extra 0.1.0 to easy-install.pth file\n",
            "\n",
            "Using /usr/local/lib/python3.8/dist-packages\n",
            "Searching for pyOpenSSL==23.0.0\n",
            "Best match: pyOpenSSL 23.0.0\n",
            "Adding pyOpenSSL 23.0.0 to easy-install.pth file\n",
            "\n",
            "Using /usr/local/lib/python3.8/dist-packages\n",
            "Searching for idna==2.10\n",
            "Best match: idna 2.10\n",
            "Adding idna 2.10 to easy-install.pth file\n",
            "\n",
            "Using /usr/local/lib/python3.8/dist-packages\n",
            "Searching for sortedcontainers==2.4.0\n",
            "Best match: sortedcontainers 2.4.0\n",
            "Adding sortedcontainers 2.4.0 to easy-install.pth file\n",
            "\n",
            "Using /usr/local/lib/python3.8/dist-packages\n",
            "Searching for attrs==22.2.0\n",
            "Best match: attrs 22.2.0\n",
            "Adding attrs 22.2.0 to easy-install.pth file\n",
            "\n",
            "Using /usr/local/lib/python3.8/dist-packages\n",
            "Searching for exceptiongroup==1.1.0\n",
            "Best match: exceptiongroup 1.1.0\n",
            "Adding exceptiongroup 1.1.0 to easy-install.pth file\n",
            "\n",
            "Using /usr/local/lib/python3.8/dist-packages\n",
            "Searching for outcome==1.2.0\n",
            "Best match: outcome 1.2.0\n",
            "Adding outcome 1.2.0 to easy-install.pth file\n",
            "\n",
            "Using /usr/local/lib/python3.8/dist-packages\n",
            "Searching for sniffio==1.3.0\n",
            "Best match: sniffio 1.3.0\n",
            "Adding sniffio 1.3.0 to easy-install.pth file\n",
            "\n",
            "Using /usr/local/lib/python3.8/dist-packages\n",
            "Searching for h11==0.14.0\n",
            "Best match: h11 0.14.0\n",
            "Adding h11 0.14.0 to easy-install.pth file\n",
            "\n",
            "Using /usr/local/lib/python3.8/dist-packages\n",
            "Searching for cffi==1.15.1\n",
            "Best match: cffi 1.15.1\n",
            "Adding cffi 1.15.1 to easy-install.pth file\n",
            "\n",
            "Using /usr/local/lib/python3.8/dist-packages\n",
            "Searching for pycparser==2.21\n",
            "Best match: pycparser 2.21\n",
            "Adding pycparser 2.21 to easy-install.pth file\n",
            "\n",
            "Using /usr/local/lib/python3.8/dist-packages\n",
            "Finished processing dependencies for google-images-download==2.8.0\n"
          ]
        }
      ]
    },
    {
      "cell_type": "code",
      "source": [
        "from google.colab import drive\n",
        "drive.mount('/content/drive')"
      ],
      "metadata": {
        "colab": {
          "base_uri": "https://localhost:8080/"
        },
        "id": "_u3-pvJ5qfBi",
        "outputId": "d907c3cb-7923-49b0-a216-1d404d827b14"
      },
      "execution_count": 24,
      "outputs": [
        {
          "output_type": "stream",
          "name": "stdout",
          "text": [
            "Drive already mounted at /content/drive; to attempt to forcibly remount, call drive.mount(\"/content/drive\", force_remount=True).\n"
          ]
        }
      ]
    },
    {
      "cell_type": "code",
      "source": [
        "from google_images_download import google_images_download\n",
        "response = google_images_download.googleimagesdownload()\n",
        "\n",
        "response.download({\n",
        "    \"keywords\": \"イチゴ\",\n",
        "    \"limit\": 3,\n",
        "    \"no_numbering\": True,\n",
        "    \"output_directory\": \"/content/drive/My Drive/AI_laboratory_course/images\",\n",
        "    \"image_directory\": \"strawberry\",\n",
        "    \"format\": \"jpg\" or \"jpeg\",\n",
        "    \"print_urls\": False,\n",
        "    \"chromedriver\": \"/usr/lib/chromium-browser/chromedriver  \n",
        "    })\n",
        "\n",
        "\n",
        "response.download({\n",
        "    \"keywords\": \"リンゴ\",\n",
        "    \"limit\": 3,\n",
        "    \"no_numbering\": True,\n",
        "    \"output_directory\": \"/content/drive/My Drive/AI_laboratory_course/images\",\n",
        "    \"image_directory\": \"apple\",\n",
        "    \"print_urls\": False,\n",
        "    \"format\": \"jpg\" or \"jpeg\",\n",
        "     \"chromedriver\": \"/usr/lib/chromium-browser/chromedriver\"\n",
        "    })"
      ],
      "metadata": {
        "colab": {
          "base_uri": "https://localhost:8080/",
          "height": 137
        },
        "id": "UPamTT0iqjXf",
        "outputId": "75f6ea01-adf6-455a-d034-b7d8a7016408"
      },
      "execution_count": 27,
      "outputs": [
        {
          "output_type": "error",
          "ename": "SyntaxError",
          "evalue": "ignored",
          "traceback": [
            "\u001b[0;36m  File \u001b[0;32m\"<ipython-input-27-1a9af32b67b8>\"\u001b[0;36m, line \u001b[0;32m12\u001b[0m\n\u001b[0;31m    \"chromedriver\": \"/usr/lib/chromium-browser/chromedriver\u001b[0m\n\u001b[0m                                                             ^\u001b[0m\n\u001b[0;31mSyntaxError\u001b[0m\u001b[0;31m:\u001b[0m EOL while scanning string literal\n"
          ]
        }
      ]
    },
    {
      "cell_type": "code",
      "source": [
        "from google_images_download import google_images_download\n",
        "response = google_images_download.googleimagesdownload()\n",
        "\n",
        "response.download({\n",
        "    \"keywords\": \"イチゴ\",\n",
        "    \"limit\": 3,\n",
        "    \"no_numbering\": True,\n",
        "    \"output_directory\": \"/content\",\n",
        "    \"image_directory\": \"strawberry\",\n",
        "    \"format\": \"jpg\" or \"jpeg\",\n",
        "    \"print_urls\": False,\n",
        "    \"chromedriver\": \"/usr/lib/chromium-browser/chromedriver  #chromedriverをダウンロードして指定の場所に置いておく\n",
        "    })\n",
        "\n",
        "\n",
        "response.download({\n",
        "    \"keywords\": \"リンゴ\",\n",
        "    \"limit\": 3,\n",
        "    \"no_numbering\": True,\n",
        "    \"output_directory\": \"/content\",\n",
        "    \"image_directory\": \"apple\",\n",
        "    \"print_urls\": False,\n",
        "    \"format\": \"jpg\" or \"jpeg\",\n",
        "     \"chromedriver\": \"/usr/lib/chromium-browser/chromedriver\"\n",
        "    })"
      ],
      "metadata": {
        "colab": {
          "base_uri": "https://localhost:8080/",
          "height": 173
        },
        "id": "5ikScEejrdRG",
        "outputId": "4ca9fa3f-c1ff-491b-95a0-99283644a48c"
      },
      "execution_count": 26,
      "outputs": [
        {
          "output_type": "error",
          "ename": "SyntaxError",
          "evalue": "ignored",
          "traceback": [
            "\u001b[0;36m  File \u001b[0;32m\"<ipython-input-26-13fc6fc67193>\"\u001b[0;36m, line \u001b[0;32m12\u001b[0m\n\u001b[0;31m    \"chromedriver\": \"/usr/lib/chromium-browser/chromedriver  #chromedriverをダウンロードして指定の場所に置いておく\u001b[0m\n\u001b[0m                                                                                              ^\u001b[0m\n\u001b[0;31mSyntaxError\u001b[0m\u001b[0;31m:\u001b[0m EOL while scanning string literal\n"
          ]
        }
      ]
    },
    {
      "cell_type": "code",
      "source": [
        "QUERY = 'パイナップル　フリー'                        # 検索ワード\n",
        "SAVE_DIR = '/content/pine'                        # 出力フォルダへのパス（フォルダがない場合は自動生成する）\n",
        "FILE_NAME = 'pine_'                          # ファイル名（ファイル名の後ろに０からの連番と拡張子が付く）\n",
        "\n",
        "\n",
        "import requests\n",
        "from selenium import webdriver\n",
        "from selenium.webdriver.chrome.options import Options\n",
        "import os\n",
        "import time\n",
        "import datetime\n",
        "from selenium.common.exceptions import NoSuchElementException\n",
        "from selenium.common.exceptions import ElementClickInterceptedException\n",
        " \n",
        "tm_start = time.time()            #処理時間計測用\n",
        "dt_now = datetime.datetime.now()  # 現在日時\n",
        "dt_date_str = dt_now.strftime('%Y/%m/%d %H:%M')\n",
        "print(dt_date_str)\n",
        " \n",
        "# QUERY = 'りんご　フリー'                        # 検索ワード\n",
        "LIMIT_DL_NUM = 10                          # ダウンロード数の上限\n",
        "# SAVE_DIR = '/content/apple'                        # 出力フォルダへのパス（フォルダがない場合は自動生成する）\n",
        "# FILE_NAME = 'strawberry_'                          # ファイル名（ファイル名の後ろに０からの連番と拡張子が付く）\n",
        "TIMEOUT = 60                                # 要素検索のタイムアウト（秒）\n",
        "ACCESS_WAIT = 1                             # アクセスする間隔（秒）\n",
        "RETRY_NUM = 3                               # リトライ回数（クリック、requests）\n",
        "DRIVER_PATH = '/usr/lib/chromium-browser/chromedriver'       # chromedriver.exeへのパス\n",
        " \n",
        "# Chromeをヘッドレスモードで起動\n",
        "options = Options()\n",
        "options.add_argument('--headless')\n",
        "options.add_argument('--no-sandbox')\n",
        "options.add_argument('--disable-dev-shm-usage')\n",
        "options.add_argument('--start-fullscreen')\n",
        "options.add_argument('--disable-plugins')\n",
        "options.add_argument('--disable-extensions')\n",
        "driver = webdriver.Chrome(DRIVER_PATH, options=options)\n",
        " \n",
        "# タイムアウト設定\n",
        "driver.implicitly_wait(TIMEOUT)\n",
        " \n",
        "tm_driver = time.time()\n",
        "print('WebDriver起動完了', f'{tm_driver - tm_start:.1f}s')\n",
        " \n",
        "# Google画像検索ページを取得\n",
        "url = f'https://www.google.com/search?q={QUERY}&tbm=isch'\n",
        "driver.get(url)\n",
        " \n",
        "tm_geturl = time.time()\n",
        "print('Google画像検索ページ取得', f'{tm_geturl - tm_driver:.1f}s')\n",
        " \n",
        "tmb_elems = driver.find_elements_by_css_selector('#islmp img')\n",
        "tmb_alts = [tmb.get_attribute('alt') for tmb in tmb_elems]\n",
        " \n",
        "count = len(tmb_alts) - tmb_alts.count('')\n",
        "print(count)\n",
        " \n",
        "while count < LIMIT_DL_NUM:\n",
        "    # ページの一番下へスクロールして新しいサムネイル画像を表示させる\n",
        "    driver.execute_script('window.scrollTo(0, document.body.scrollHeight);')\n",
        "    time.sleep(1)\n",
        " \n",
        "    # サムネイル画像取得\n",
        "    tmb_elems = driver.find_elements_by_css_selector('#islmp img')\n",
        "    tmb_alts = [tmb.get_attribute('alt') for tmb in tmb_elems]\n",
        " \n",
        "    count = len(tmb_alts) - tmb_alts.count('')\n",
        "    print(count)  \n",
        " \n",
        "# サムネイル画像をクリックすると表示される領域を取得\n",
        "imgframe_elem = driver.find_element_by_id('islsp')\n",
        " \n",
        "# 出力フォルダ作成\n",
        "os.makedirs(SAVE_DIR, exist_ok=True)\n",
        " \n",
        "# HTTPヘッダ作成\n",
        "HTTP_HEADERS = {'User-Agent': driver.execute_script('return navigator.userAgent;')}\n",
        "print(HTTP_HEADERS)           \n",
        "            \n",
        "# ダウンロード対象のファイル拡張子\n",
        "IMG_EXTS = ('.jpg', '.jpeg', '.png', '.gif')\n",
        " \n",
        "# 拡張子を取得\n",
        "def get_extension(url):\n",
        "    url_lower = url.lower()\n",
        "    for img_ext in IMG_EXTS:\n",
        "        if img_ext in url_lower:\n",
        "            extension = '.jpg' if img_ext == '.jpeg' else img_ext\n",
        "            break\n",
        "    else:\n",
        "        extension = ''\n",
        "    return extension\n",
        " \n",
        "# urlの画像を取得しファイルへ書き込む\n",
        "def download_image(url, path, loop):\n",
        "    result = False\n",
        "    for i in range(loop):\n",
        "        try:\n",
        "            r = requests.get(url, headers=HTTP_HEADERS, stream=True, timeout=10)\n",
        "            r.raise_for_status()\n",
        "            with open(path, 'wb') as f:\n",
        "                f.write(r.content)\n",
        "\n",
        "        except requests.exceptions.SSLError:\n",
        "            print('***** SSL エラー')\n",
        "            break  # リトライしない\n",
        "        except requests.exceptions.RequestException as e:\n",
        "            print(f'***** requests エラー({e}): {i + 1}/{RETRY_NUM}')\n",
        "            time.sleep(1)\n",
        "        else:\n",
        "            result = True\n",
        "            break  # try成功\n",
        "    return result\n",
        " \n",
        "tm_thumbnails = time.time()\n",
        "print('サムネイル画像取得', f'{tm_thumbnails - tm_geturl:.1f}s')\n",
        " \n",
        "# ダウンロード\n",
        "EXCLUSION_URL = 'https://lh3.googleusercontent.com/'  # 除外対象url\n",
        "count = 0\n",
        "url_list = []\n",
        "for tmb_elem, tmb_alt in zip(tmb_elems, tmb_alts):\n",
        "     \n",
        "    if tmb_alt == '':\n",
        "        continue\n",
        " \n",
        "    print(f'{count}: {tmb_alt}')\n",
        " \n",
        "    for i in range(RETRY_NUM):\n",
        "        try:\n",
        "            # サムネイル画像をクリック\n",
        "            tmb_elem.click()\n",
        "        except ElementClickInterceptedException:\n",
        "            print(f'***** click エラー: {i + 1}/{RETRY_NUM}')\n",
        "            driver.execute_script('arguments[0].scrollIntoView(true);', tmb_elem)\n",
        "            time.sleep(1)\n",
        "        else:\n",
        "            break  # try成功\n",
        "    else:\n",
        "        print('***** キャンセル')\n",
        "        continue  # リトライ失敗\n",
        "         \n",
        "    # アクセス負荷軽減用のウェイト\n",
        "    time.sleep(ACCESS_WAIT)\n",
        "     \n",
        "    alt = tmb_alt.replace(\"'\", \"\\'\")\n",
        "    try:\n",
        "        img_elem = imgframe_elem.find_element_by_css_selector(f'img[alt=\\'{alt}\\']')\n",
        "    except NoSuchElementException:\n",
        "        print('***** img要素検索エラー')\n",
        "        print('***** キャンセル')\n",
        "        continue\n",
        " \n",
        "    # url取得\n",
        "    tmb_url = tmb_elem.get_attribute('src')  # サムネイル画像のsrc属性値\n",
        " \n",
        "    for i in range(RETRY_NUM):\n",
        "        url = img_elem.get_attribute('src')\n",
        "        if EXCLUSION_URL in url:\n",
        "            print('***** 除外対象url')\n",
        "            url = ''\n",
        "            break\n",
        "        elif url == tmb_url:  # src属性値が遷移するまでリトライ\n",
        "            print(f'***** urlチェック: {i + 1}/{RETRY_NUM}')\n",
        "            time.sleep(1)\n",
        "            url = ''\n",
        "        else:\n",
        "            break\n",
        " \n",
        "    if url == '':\n",
        "        print('***** キャンセル')\n",
        "        continue\n",
        " \n",
        "    # 画像を取得しファイルへ保存\n",
        "    ext = get_extension(url)\n",
        "    if ext == '':\n",
        "        print(f'***** urlに拡張子が含まれていないのでキャンセル')\n",
        "        print(f'{url}')\n",
        "        continue\n",
        " \n",
        "    filename = f'{FILE_NAME}{count}{ext}'\n",
        "    path = SAVE_DIR + '/' + filename\n",
        "    result = download_image(url, path, RETRY_NUM)\n",
        "    if result == False:\n",
        "        print('***** キャンセル')\n",
        "        continue\n",
        "    url_list.append(f'{filename}: {url}')\n",
        " \n",
        "    # ダウンロード数の更新と終了判定\n",
        "    count += 1\n",
        "    if count >= LIMIT_DL_NUM:\n",
        "        break\n",
        " \n",
        "tm_end = time.time()\n",
        "print('ダウンロード', f'{tm_end - tm_thumbnails:.1f}s')\n",
        "print('------------------------------------')\n",
        "total = tm_end - tm_start\n",
        "total_str = f'トータル時間: {total:.1f}s({total/60:.2f}min)'\n",
        "count_str = f'ダウンロード数: {count}'\n",
        "print(total_str)\n",
        "print(count_str)\n",
        " \n",
        "# # urlをファイルへ保存\n",
        "# path = SAVE_DIR + '/url/' + '_url.txt'\n",
        "# with open(path, 'w', encoding='utf-8') as f:\n",
        "#     f.write(dt_date_str + '\\n')\n",
        "#     f.write(total_str + '\\n')\n",
        "#     f.write(count_str + '\\n')\n",
        "#     f.write('\\n'.join(url_list))\n",
        " \n",
        "driver.quit()"
      ],
      "metadata": {
        "colab": {
          "base_uri": "https://localhost:8080/"
        },
        "id": "AR8fz8piujbz",
        "outputId": "786b2427-f7ff-45b6-ca9d-6154809784d1"
      },
      "execution_count": 28,
      "outputs": [
        {
          "output_type": "stream",
          "name": "stdout",
          "text": [
            "2023/01/17 03:16\n"
          ]
        },
        {
          "output_type": "stream",
          "name": "stderr",
          "text": [
            "<ipython-input-28-3be83892d5bd>:37: DeprecationWarning: executable_path has been deprecated, please pass in a Service object\n",
            "  driver = webdriver.Chrome(DRIVER_PATH, options=options)\n"
          ]
        },
        {
          "output_type": "stream",
          "name": "stdout",
          "text": [
            "WebDriver起動完了 1.2s\n",
            "Google画像検索ページ取得 2.3s\n"
          ]
        },
        {
          "output_type": "stream",
          "name": "stderr",
          "text": [
            "<ipython-input-28-3be83892d5bd>:52: DeprecationWarning: find_elements_by_* commands are deprecated. Please use find_elements() instead\n",
            "  tmb_elems = driver.find_elements_by_css_selector('#islmp img')\n"
          ]
        },
        {
          "output_type": "stream",
          "name": "stdout",
          "text": [
            "48\n",
            "{'User-Agent': 'Mozilla/5.0 (X11; Linux x86_64) AppleWebKit/537.36 (KHTML, like Gecko) HeadlessChrome/108.0.5359.71 Safari/537.36'}\n",
            "サムネイル画像取得 1.2s\n",
            "0: パイナップル 写真素材 [ 2642245 ] 無料 - フォトライブラリー photolibrary\n"
          ]
        },
        {
          "output_type": "stream",
          "name": "stderr",
          "text": [
            "<ipython-input-28-3be83892d5bd>:71: DeprecationWarning: find_element_by_* commands are deprecated. Please use find_element() instead\n",
            "  imgframe_elem = driver.find_element_by_id('islsp')\n",
            "/usr/local/lib/python3.8/dist-packages/selenium/webdriver/remote/webelement.py:484: UserWarning: find_element_by_* commands are deprecated. Please use find_element() instead\n",
            "  warnings.warn(\"find_element_by_* commands are deprecated. Please use find_element() instead\")\n"
          ]
        },
        {
          "output_type": "stream",
          "name": "stdout",
          "text": [
            "***** urlチェック: 1/3\n",
            "1: パイナップル02 | フリー素材ドットコム\n",
            "2: パイナップルのイラスト | 商用OKの無料イラスト素材サイト ツカッテ\n",
            "3: パイナップル フリー素材のイラスト・画像集めてみた！\n",
            "4: シンプルなパイナップル 写真素材 [ 2635235 ] 無料 - フォトライブラリー photolibrary\n",
            "5: パイナップルAの無料素材 - イラスト沖縄（おきなわ）\n",
            "6: パイナップル | フリー素材ドットコム\n",
            "7: パイナップル（パイン）のイラスト素材 | 商用可能な無料(フリー)のイラスト素材ならストックマテリアル\n",
            "8: フリー写真] カットしたパイナップル - パブリックドメインQ：著作権フリー画像素材集\n",
            "***** requests エラー(403 Client Error: Forbidden for url: https://sun.publicdomainq.net/202002/08o/publicdomainq-0042631suxbus.jpg): 1/3\n",
            "***** requests エラー(403 Client Error: Forbidden for url: https://sun.publicdomainq.net/202002/08o/publicdomainq-0042631suxbus.jpg): 2/3\n",
            "***** requests エラー(403 Client Error: Forbidden for url: https://sun.publicdomainq.net/202002/08o/publicdomainq-0042631suxbus.jpg): 3/3\n",
            "***** キャンセル\n",
            "8: パイナップル（パイン）のイラスト・条件付フリー素材集\n",
            "***** urlチェック: 1/3\n",
            "***** urlチェック: 2/3\n",
            "***** urlチェック: 3/3\n",
            "***** キャンセル\n",
            "8: パイナップル - イラスト素材 | 無料イラスト素材集「ピクト缶」\n",
            "9: パイナップル… - マッチョフリー素材サイト『マッスルプラス』\n",
            "ダウンロード 30.9s\n",
            "------------------------------------\n",
            "トータル時間: 35.6s(0.59min)\n",
            "ダウンロード数: 10\n"
          ]
        }
      ]
    },
    {
      "cell_type": "code",
      "source": [
        "QUERY = '魚　フリー'                        # 検索ワード\n",
        "SAVE_DIR = '/content/fish'                        # 出力フォルダへのパス（フォルダがない場合は自動生成する）\n",
        "FILE_NAME = 'fish_'                          # ファイル名（ファイル名の後ろに０からの連番と拡張子が付く）\n",
        "\n",
        "\n",
        "import requests\n",
        "from selenium import webdriver\n",
        "from selenium.webdriver.chrome.options import Options\n",
        "import os\n",
        "import time\n",
        "import datetime\n",
        "from selenium.common.exceptions import NoSuchElementException\n",
        "from selenium.common.exceptions import ElementClickInterceptedException\n",
        " \n",
        "tm_start = time.time()            #処理時間計測用\n",
        "dt_now = datetime.datetime.now()  # 現在日時\n",
        "dt_date_str = dt_now.strftime('%Y/%m/%d %H:%M')\n",
        "print(dt_date_str)\n",
        " \n",
        "# QUERY = 'りんご　フリー'                        # 検索ワード\n",
        "LIMIT_DL_NUM = 100                          # ダウンロード数の上限\n",
        "# SAVE_DIR = '/content/apple'                        # 出力フォルダへのパス（フォルダがない場合は自動生成する）\n",
        "# FILE_NAME = 'strawberry_'                          # ファイル名（ファイル名の後ろに０からの連番と拡張子が付く）\n",
        "TIMEOUT = 60                                # 要素検索のタイムアウト（秒）\n",
        "ACCESS_WAIT = 1                             # アクセスする間隔（秒）\n",
        "RETRY_NUM = 3                               # リトライ回数（クリック、requests）\n",
        "DRIVER_PATH = '/usr/lib/chromium-browser/chromedriver'       # chromedriver.exeへのパス\n",
        " \n",
        "# Chromeをヘッドレスモードで起動\n",
        "options = Options()\n",
        "options.add_argument('--headless')\n",
        "options.add_argument('--no-sandbox')\n",
        "options.add_argument('--disable-dev-shm-usage')\n",
        "options.add_argument('--start-fullscreen')\n",
        "options.add_argument('--disable-plugins')\n",
        "options.add_argument('--disable-extensions')\n",
        "driver = webdriver.Chrome(DRIVER_PATH, options=options)\n",
        " \n",
        "# タイムアウト設定\n",
        "driver.implicitly_wait(TIMEOUT)\n",
        " \n",
        "tm_driver = time.time()\n",
        "print('WebDriver起動完了', f'{tm_driver - tm_start:.1f}s')\n",
        " \n",
        "# Google画像検索ページを取得\n",
        "url = f'https://www.google.com/search?q={QUERY}&tbm=isch'\n",
        "driver.get(url)\n",
        " \n",
        "tm_geturl = time.time()\n",
        "print('Google画像検索ページ取得', f'{tm_geturl - tm_driver:.1f}s')\n",
        " \n",
        "tmb_elems = driver.find_elements_by_css_selector('#islmp img')\n",
        "tmb_alts = [tmb.get_attribute('alt') for tmb in tmb_elems]\n",
        " \n",
        "count = len(tmb_alts) - tmb_alts.count('')\n",
        "print(count)\n",
        " \n",
        "while count < LIMIT_DL_NUM:\n",
        "    # ページの一番下へスクロールして新しいサムネイル画像を表示させる\n",
        "    driver.execute_script('window.scrollTo(0, document.body.scrollHeight);')\n",
        "    time.sleep(1)\n",
        " \n",
        "    # サムネイル画像取得\n",
        "    tmb_elems = driver.find_elements_by_css_selector('#islmp img')\n",
        "    tmb_alts = [tmb.get_attribute('alt') for tmb in tmb_elems]\n",
        " \n",
        "    count = len(tmb_alts) - tmb_alts.count('')\n",
        "    print(count)  \n",
        " \n",
        "# サムネイル画像をクリックすると表示される領域を取得\n",
        "imgframe_elem = driver.find_element_by_id('islsp')\n",
        " \n",
        "# 出力フォルダ作成\n",
        "os.makedirs(SAVE_DIR, exist_ok=True)\n",
        " \n",
        "# HTTPヘッダ作成\n",
        "HTTP_HEADERS = {'User-Agent': driver.execute_script('return navigator.userAgent;')}\n",
        "print(HTTP_HEADERS)           \n",
        "            \n",
        "# ダウンロード対象のファイル拡張子\n",
        "IMG_EXTS = ('.jpg', '.jpeg', '.png', '.gif')\n",
        " \n",
        "# 拡張子を取得\n",
        "def get_extension(url):\n",
        "    url_lower = url.lower()\n",
        "    for img_ext in IMG_EXTS:\n",
        "        if img_ext in url_lower:\n",
        "            extension = '.jpg' if img_ext == '.jpeg' else img_ext\n",
        "            break\n",
        "    else:\n",
        "        extension = ''\n",
        "    return extension\n",
        " \n",
        "# urlの画像を取得しファイルへ書き込む\n",
        "def download_image(url, path, loop):\n",
        "    result = False\n",
        "    for i in range(loop):\n",
        "        try:\n",
        "            r = requests.get(url, headers=HTTP_HEADERS, stream=True, timeout=10)\n",
        "            r.raise_for_status()\n",
        "            with open(path, 'wb') as f:\n",
        "                f.write(r.content)\n",
        "\n",
        "        except requests.exceptions.SSLError:\n",
        "            print('***** SSL エラー')\n",
        "            break  # リトライしない\n",
        "        except requests.exceptions.RequestException as e:\n",
        "            print(f'***** requests エラー({e}): {i + 1}/{RETRY_NUM}')\n",
        "            time.sleep(1)\n",
        "        else:\n",
        "            result = True\n",
        "            break  # try成功\n",
        "    return result\n",
        " \n",
        "tm_thumbnails = time.time()\n",
        "print('サムネイル画像取得', f'{tm_thumbnails - tm_geturl:.1f}s')\n",
        " \n",
        "# ダウンロード\n",
        "EXCLUSION_URL = 'https://lh3.googleusercontent.com/'  # 除外対象url\n",
        "count = 0\n",
        "url_list = []\n",
        "for tmb_elem, tmb_alt in zip(tmb_elems, tmb_alts):\n",
        "     \n",
        "    if tmb_alt == '':\n",
        "        continue\n",
        " \n",
        "    print(f'{count}: {tmb_alt}')\n",
        " \n",
        "    for i in range(RETRY_NUM):\n",
        "        try:\n",
        "            # サムネイル画像をクリック\n",
        "            tmb_elem.click()\n",
        "        except ElementClickInterceptedException:\n",
        "            print(f'***** click エラー: {i + 1}/{RETRY_NUM}')\n",
        "            driver.execute_script('arguments[0].scrollIntoView(true);', tmb_elem)\n",
        "            time.sleep(1)\n",
        "        else:\n",
        "            break  # try成功\n",
        "    else:\n",
        "        print('***** キャンセル')\n",
        "        continue  # リトライ失敗\n",
        "         \n",
        "    # アクセス負荷軽減用のウェイト\n",
        "    time.sleep(ACCESS_WAIT)\n",
        "     \n",
        "    alt = tmb_alt.replace(\"'\", \"\\'\")\n",
        "    try:\n",
        "        img_elem = imgframe_elem.find_element_by_css_selector(f'img[alt=\\'{alt}\\']')\n",
        "    except NoSuchElementException:\n",
        "        print('***** img要素検索エラー')\n",
        "        print('***** キャンセル')\n",
        "        continue\n",
        " \n",
        "    # url取得\n",
        "    tmb_url = tmb_elem.get_attribute('src')  # サムネイル画像のsrc属性値\n",
        " \n",
        "    for i in range(RETRY_NUM):\n",
        "        url = img_elem.get_attribute('src')\n",
        "        if EXCLUSION_URL in url:\n",
        "            print('***** 除外対象url')\n",
        "            url = ''\n",
        "            break\n",
        "        elif url == tmb_url:  # src属性値が遷移するまでリトライ\n",
        "            print(f'***** urlチェック: {i + 1}/{RETRY_NUM}')\n",
        "            time.sleep(1)\n",
        "            url = ''\n",
        "        else:\n",
        "            break\n",
        " \n",
        "    if url == '':\n",
        "        print('***** キャンセル')\n",
        "        continue\n",
        " \n",
        "    # 画像を取得しファイルへ保存\n",
        "    ext = get_extension(url)\n",
        "    if ext == '':\n",
        "        print(f'***** urlに拡張子が含まれていないのでキャンセル')\n",
        "        print(f'{url}')\n",
        "        continue\n",
        " \n",
        "    filename = f'{FILE_NAME}{count}{ext}'\n",
        "    path = SAVE_DIR + '/' + filename\n",
        "    result = download_image(url, path, RETRY_NUM)\n",
        "    if result == False:\n",
        "        print('***** キャンセル')\n",
        "        continue\n",
        "    url_list.append(f'{filename}: {url}')\n",
        " \n",
        "    # ダウンロード数の更新と終了判定\n",
        "    count += 1\n",
        "    if count >= LIMIT_DL_NUM:\n",
        "        break\n",
        " \n",
        "tm_end = time.time()\n",
        "print('ダウンロード', f'{tm_end - tm_thumbnails:.1f}s')\n",
        "print('------------------------------------')\n",
        "total = tm_end - tm_start\n",
        "total_str = f'トータル時間: {total:.1f}s({total/60:.2f}min)'\n",
        "count_str = f'ダウンロード数: {count}'\n",
        "print(total_str)\n",
        "print(count_str)\n",
        " \n",
        "# # urlをファイルへ保存\n",
        "# path = SAVE_DIR + '/url/' + '_url.txt'\n",
        "# with open(path, 'w', encoding='utf-8') as f:\n",
        "#     f.write(dt_date_str + '\\n')\n",
        "#     f.write(total_str + '\\n')\n",
        "#     f.write(count_str + '\\n')\n",
        "#     f.write('\\n'.join(url_list))\n",
        " \n",
        "driver.quit()"
      ],
      "metadata": {
        "colab": {
          "base_uri": "https://localhost:8080/"
        },
        "id": "xepczFbQvqom",
        "outputId": "16cb4827-6eda-44d1-8c0a-e94040d02a35"
      },
      "execution_count": 30,
      "outputs": [
        {
          "output_type": "stream",
          "name": "stdout",
          "text": [
            "2023/01/17 03:24\n"
          ]
        },
        {
          "output_type": "stream",
          "name": "stderr",
          "text": [
            "<ipython-input-30-fe59516efa51>:37: DeprecationWarning: executable_path has been deprecated, please pass in a Service object\n",
            "  driver = webdriver.Chrome(DRIVER_PATH, options=options)\n"
          ]
        },
        {
          "output_type": "stream",
          "name": "stdout",
          "text": [
            "WebDriver起動完了 0.7s\n",
            "Google画像検索ページ取得 2.0s\n"
          ]
        },
        {
          "output_type": "stream",
          "name": "stderr",
          "text": [
            "<ipython-input-30-fe59516efa51>:52: DeprecationWarning: find_elements_by_* commands are deprecated. Please use find_elements() instead\n",
            "  tmb_elems = driver.find_elements_by_css_selector('#islmp img')\n"
          ]
        },
        {
          "output_type": "stream",
          "name": "stdout",
          "text": [
            "48\n"
          ]
        },
        {
          "output_type": "stream",
          "name": "stderr",
          "text": [
            "<ipython-input-30-fe59516efa51>:64: DeprecationWarning: find_elements_by_* commands are deprecated. Please use find_elements() instead\n",
            "  tmb_elems = driver.find_elements_by_css_selector('#islmp img')\n"
          ]
        },
        {
          "output_type": "stream",
          "name": "stdout",
          "text": [
            "100\n",
            "{'User-Agent': 'Mozilla/5.0 (X11; Linux x86_64) AppleWebKit/537.36 (KHTML, like Gecko) HeadlessChrome/108.0.5359.71 Safari/537.36'}\n",
            "サムネイル画像取得 5.0s\n",
            "0: 魚 | フリーイラスト素材のぴくらいく｜無料ダウンロード可能です\n"
          ]
        },
        {
          "output_type": "stream",
          "name": "stderr",
          "text": [
            "<ipython-input-30-fe59516efa51>:71: DeprecationWarning: find_element_by_* commands are deprecated. Please use find_element() instead\n",
            "  imgframe_elem = driver.find_element_by_id('islsp')\n"
          ]
        },
        {
          "output_type": "stream",
          "name": "stdout",
          "text": [
            "1: 魚のイラスト | 商用OKの無料イラスト素材サイト ツカッテ\n",
            "2: ゆるいさかな青の無料(フリー)イラスト | かわいい手描きの無料素材「てがきっず」保育園・小学校・介護施設にぴったりのフリー素材イラスト\n",
            "3: 無料イラスト] 2匹の魚 - パブリックドメインQ：著作権フリー画像素材集\n",
            "4: シンプルな魚イラストのフリー素材｜イラストイメージ\n",
            "5: 魚｜Sui-Sai｜手描き水彩イラストフリー素材集\n",
            "6: 魚 の無料アイコン・イラスト素材 | アイコン・イラスト無料素材は「フリーアイコンズ」 - Free Vector Download Site\n",
            "7: 魚の群れのフリーイラスト | フリーイラスト・クラシック（フリクラ）\n",
            "8: 魚イラスト、いきものイラストを提供してます。あとりえポルカドッツ\n",
            "9: 水槽と魚たちの写真素材 - ぱくたそ\n",
            "10: さかな青の無料(フリー)イラスト | かわいい手描きの無料素材「てがきっず」保育園・小学校・介護施設にぴったりのフリー素材イラスト\n",
            "11: フリーイラスト] さかな - パブリックドメインQ：著作権フリー画像素材集\n",
            "12: 笑顔の魚のイラスト | かわいいフリー素材が無料のイラストレイン\n",
            "13: いろいろな色の小魚のイラスト | かわいいフリー素材集 いらすとや\n",
            "14: 魚料理のフリー素材No15-かれい のイラスト | イラストポップ\n",
            "15: カンパチ 無料魚イラスト | 素材Good\n",
            "***** urlチェック: 1/3\n",
            "16: 魚イラストのフリー素材｜イラストイメージ\n",
            "17: お魚さんのイラスト｜可愛いフリーアイコン・イラストの無料素材サイト｜フリーペンシル\n",
            "18: 魚 | アイコン素材ダウンロードサイト「icooon-mono」 | 商用利用可能なアイコン素材が無料(フリー)ダウンロードできるサイト\n",
            "***** urlに拡張子が含まれていないのでキャンセル\n",
            "https://icooon-mono.com/i/icon_11067/icon_110670.svg\n",
            "18: お魚イラスト／無料イラストなら「イラストAC」\n",
            "19: 魚 フラットデザイン カラーアイコン フリー素材 – アイコン・イラストダウンロードサイト【OWL STOCK -オウルストック】\n",
            "20: 魚の商用利用可フリー写真素材一覧 | フォトック\n",
            "21: サカナ（魚）～高品質な無料のフリーイラスト素材集\n",
            "22: 川魚イラスト／無料イラストなら「イラストAC」\n",
            "23: 海中の魚たちのイラスト | かわいいフリー素材が無料のイラストレイン\n",
            "24: かわいいナンヨウハギのフリーイラスト - 南国の魚素材 - チコデザ\n",
            "25: 可愛いイラスト無料｜魚 鯛 − free illustration Fish Red snapper | イラストダウンロード\n",
            "26: 魚のイラスト・無料イラストフリー素材\n",
            "***** urlチェック: 1/3\n",
            "***** urlチェック: 2/3\n",
            "***** urlチェック: 3/3\n",
            "***** キャンセル\n",
            "26: お魚のフリーアイコン｜可愛いフリーアイコン・イラストの無料素材サイト｜フリーペンシル\n",
            "27: 魚とお魚屋さんのイラスト | 無料のフリー素材 イラストエイト\n",
            "28: 海水魚と淡水魚のイラストコレクション【商用利用可能・フリー素材】（2022.08.23更新） / イラストセンター\n",
            "29: さかな | フリーイラスト・クラシック（フリクラ）\n",
            "30: イラスト フリー 夏 - 跳ねる 魚 イラスト - Free Transparent PNG Clipart Images Download\n",
            "31: 海中の魚の大群01 | フリー素材ドットコム\n",
            "***** urlチェック: 1/3\n",
            "***** urlチェック: 2/3\n",
            "***** urlチェック: 3/3\n",
            "***** キャンセル\n",
            "31: 水槽の中の魚の写真素材 - ぱくたそ\n",
            "32: かわいい魚の無料キャラクターイラスト素材集｜IllustCute\n",
            "33: フリー素材・商用可】いろんなお魚【アンティーク・ビンテージ・パブリックドメイン】 - LittleDream\n",
            "34: 鰺 魚 画像 無料写真素材 フリー写真素材「花ざかりの森」\n",
            "35: 釣りたての魚 写真素材 [ 2652226 ] 無料 - フォトライブラリー photolibrary\n",
            "36: イラスト - No: 1477603／無料イラストなら「イラストAC」 | 魚イラスト, 海の生き物 イラスト, イラスト\n",
            "37: 魚にまつわるハンドメイド雑貨｜イラスト素材無料｜小雑貨魚屋\n",
            "38: まとめ】可愛い魚の無料イラスト素材集｜イラストイメージ\n",
            "39: 魚の群れ｜Sui-Sai｜手描き水彩イラストフリー素材集\n",
            "40: 無料イラスト 魚介類 海産物 魚 セット\n",
            "41: フリー素材 画像 とても面白い顔の魚 (無料) - 株式会社カムラック | 障害者就労継続支援A型・B型・就労移行支援・相談支援・放課後等デイサービス\n",
            "42: フリーイラスト] 6種類のマグロのセットでアハ体験 - GAHAG | 著作権フリー写真・イラスト素材集\n",
            "***** requests エラー(403 Client Error: Forbidden for url: https://img01.gahag.net/201605/30o/gahag-0091297703.png): 1/3\n",
            "***** requests エラー(403 Client Error: Forbidden for url: https://img01.gahag.net/201605/30o/gahag-0091297703.png): 2/3\n",
            "***** requests エラー(403 Client Error: Forbidden for url: https://img01.gahag.net/201605/30o/gahag-0091297703.png): 3/3\n",
            "***** キャンセル\n",
            "42: ベクター魚アイコンイラスト画像とPNGフリー素材透過の無料ダウンロード - Pngtree\n",
            "***** urlチェック: 1/3\n",
            "***** urlチェック: 2/3\n",
            "***** urlチェック: 3/3\n",
            "***** キャンセル\n",
            "42: 海水魚図鑑 海 写真・水中写真 | 無料壁紙＆フリー素材屋さん\n",
            "***** urlチェック: 1/3\n",
            "***** urlチェック: 2/3\n",
            "***** urlチェック: 3/3\n",
            "***** キャンセル\n",
            "42: 色んな魚が一緒に泳ぐ海中 | フリー素材ドットコム\n",
            "43: 魚」の商用利用可フリー写真素材一覧 | フォトック\n",
            "44: ブリのフリーイラスト - リアル・可愛い無料の魚素材 - チコデザ\n",
            "45: 魚のシルエット | 無料のAi・PNG白黒シルエットイラスト\n",
            "46: 日本のさかな文化を愛媛から発信するフリーマガジン - Eのさかな\n",
            "47: いろいろな色の小魚のイラスト | かわいいフリー素材集 いらすとや\n",
            "48: 魚の写真素材｜写真素材なら「写真AC」無料（フリー）ダウンロードOK\n",
            "49: 無料イラスト カラフルな魚セット（背景なし）\n",
            "50: 魚 イラスト素材 | 肉, 野菜, 熱帯魚 - iStock\n",
            "51: お魚とお肉  糖尿病発症を予防してくれるのはどっち⁉｜院長ブログ｜西宮市の糖尿病内科・循環器内科・総合内科【いわもと内科クリニック】専門医による糖尿病・高血圧・高脂血症・動脈硬化・生活習慣病・一般内科・循環器疾患・健康診断\n",
            "52: スズキ（魚）のイラスト | 無料のフリー素材 イラストエイト\n",
            "53: スズキ 無料魚イラスト | 素材Good\n",
            "54: 魚イラスト、いきものイラストを提供してます。あとりえポルカドッツ\n",
            "55: 水の生き物、小魚、死んだ魚イラスト画像とPSDフリー素材透過の無料ダウンロード - Pngtree\n",
            "***** urlチェック: 1/3\n",
            "***** urlチェック: 2/3\n",
            "***** urlチェック: 3/3\n",
            "***** キャンセル\n",
            "55: かわいい魚イラスト｜魚｜素材のプチッチ\n",
            "***** urlチェック: 1/3\n",
            "***** urlチェック: 2/3\n",
            "***** urlチェック: 3/3\n",
            "***** キャンセル\n",
            "55: 魚・魚群のフリー素材・無料の写真素材 Page1 無料画像素材のプロ・フォト\n",
            "56: 鯛やヒラメの魚市場の写真素材 - ぱくたそ\n",
            "57: さかな赤の無料(フリー)イラスト | かわいい手描きの無料素材「てがきっず」保育園・小学校・介護施設にぴったりのフリー素材イラスト\n",
            "58: 無料イラスト] タイセイヨウクロマグロ - パブリックドメインQ：著作権フリー画像素材集\n",
            "59: 魚 イラスト素材 | 肉, 野菜, 熱帯魚 - iStock\n",
            "60: 海水魚イラスト／無料イラストなら「イラストAC」\n",
            "61: 魚のイラスト・無料イラストフリー素材\n",
            "***** urlチェック: 1/3\n",
            "***** urlチェック: 2/3\n",
            "***** urlチェック: 3/3\n",
            "***** キャンセル\n",
            "61: カラフルおさかなのイラスト | SOZAIC.com\n",
            "62: 魚 – SILHOUETTE DESIGN\n",
            "63: 魚にまつわるハンドメイド雑貨｜イラスト素材無料｜小雑貨魚屋\n",
            "64: 魚 - フリーなイラスト素材集 フリイラくん\n",
            "65: 魚料理のフリー素材No16-かれい のイラスト | イラストポップ\n",
            "66: リアルなシミュレーション魚 イラスト フリー素材 | C4D無料ダウンロード - Pikbest\n",
            "67: マグロ（魚）｜かわいいスタンプ・判子・イラストのフリー素材集 【無料】 | マグロ イラスト, カツオ イラスト, 魚イラスト\n",
            "68: 夏のイラストNo.131『ポップな魚』／無料のフリー素材集【花鳥風月】\n",
            "69: 魚 | 無料のアイコン\n",
            "70: 鯛イラスト - かわいい・リアルタッチの魚フリー無料素材 - チコデザ\n",
            "71: 魚｜魚類 - アイコン｜イラスト｜フリー素材｜背景透明\n",
            "72: いろいろな魚のイラスト イラスト素材 [ 6281473 ] - フォトライブラリー photolibrary\n",
            "73: フリーハンド描画思想バブル テクスチャ漫画の魚 のイラスト素材・ベクタ - . Image 54150182.\n",
            "74: サケのイラスト（魚） | かわいいフリー素材集 いらすとや\n",
            "75: 魚の写真素材｜写真素材なら「写真AC」無料（フリー）ダウンロードOK\n",
            "76: 魚 文字枠イラストなら、小学校・幼稚園向け・保育園向けのかわいい無料イラストお試しフリー素材(カット)がいっぱいの安心サイトへどうぞ\n",
            "77: かわいい魚イラスト｜魚｜素材のプチッチ\n",
            "***** urlチェック: 1/3\n",
            "***** urlチェック: 2/3\n",
            "***** urlチェック: 3/3\n",
            "***** キャンセル\n",
            "77: 魚 食べ物-食材-グルメイラスト | 素材Good\n",
            "78: 水色のかわいい魚 イラスト フリー素材 | AI無料ダウンロード - Pikbest\n",
            "79: メジナ」呼び名がたくさんある釣りの対象魚として人気の魚-フリー写真有\n",
            "80: 海 美しい 小さな魚 かわいい魚の海洋生物イラスト画像とPNGフリー素材透過の無料ダウンロード - Pngtree\n",
            "***** urlチェック: 1/3\n",
            "***** urlチェック: 2/3\n",
            "***** urlチェック: 3/3\n",
            "***** キャンセル\n",
            "80: 魚類 - GAHAG | 著作権フリー写真・イラスト素材集\n",
            "81: 深海魚 海中風景のフリー写真素材 無料画像素材のプロ・フォト fis0115-002\n",
            "82: 青い魚のイラスト | かわいいフリー素材が無料のイラストレイン\n",
            "83: 魚 | フリーイラスト素材のぴくらいく｜無料ダウンロード可能です\n",
            "84: フリー素材、魚No1\n",
            "85: 無料イラスト] バケツに入った魚 - パブリックドメインQ：著作権フリー画像素材集\n",
            "86: 海水魚 イラスト(3D) セット3のイラスト素材 [61881077] - PIXTA\n",
            "87: お魚ブーンの写真素材 - ぱくたそ\n",
            "88: タナゴ（川魚・淡水魚）01 | フリー素材ドットコム\n",
            "ダウンロード 221.8s\n",
            "------------------------------------\n",
            "トータル時間: 229.5s(3.82min)\n",
            "ダウンロード数: 89\n"
          ]
        }
      ]
    },
    {
      "cell_type": "code",
      "source": [
        "shutil.copyfile('./copy_from/001.txt','./copy_to/002.txt')"
      ],
      "metadata": {
        "colab": {
          "base_uri": "https://localhost:8080/",
          "height": 173
        },
        "id": "syJ6s1A_z5bU",
        "outputId": "bbe73ffb-f714-4039-a464-f3683e03a134"
      },
      "execution_count": 31,
      "outputs": [
        {
          "output_type": "error",
          "ename": "NameError",
          "evalue": "ignored",
          "traceback": [
            "\u001b[0;31m---------------------------------------------------------------------------\u001b[0m",
            "\u001b[0;31mNameError\u001b[0m                                 Traceback (most recent call last)",
            "\u001b[0;32m<ipython-input-31-56aeb9d30fb6>\u001b[0m in \u001b[0;36m<module>\u001b[0;34m\u001b[0m\n\u001b[0;32m----> 1\u001b[0;31m \u001b[0mshutil\u001b[0m\u001b[0;34m.\u001b[0m\u001b[0mcopyfile\u001b[0m\u001b[0;34m(\u001b[0m\u001b[0;34m'./copy_from/001.txt'\u001b[0m\u001b[0;34m,\u001b[0m\u001b[0;34m'./copy_to/002.txt'\u001b[0m\u001b[0;34m)\u001b[0m\u001b[0;34m\u001b[0m\u001b[0;34m\u001b[0m\u001b[0m\n\u001b[0m",
            "\u001b[0;31mNameError\u001b[0m: name 'shutil' is not defined"
          ]
        }
      ]
    },
    {
      "cell_type": "code",
      "source": [
        "import shutil\n",
        "\n",
        "shutil.copytree('/content/dog','/content/drive/MyDrive/AI_laboratory_course/dog')"
      ],
      "metadata": {
        "colab": {
          "base_uri": "https://localhost:8080/",
          "height": 36
        },
        "id": "TMuEaX1U0MrI",
        "outputId": "7e8c12b8-3e9f-46c5-8886-4b12520949db"
      },
      "execution_count": 35,
      "outputs": [
        {
          "output_type": "execute_result",
          "data": {
            "text/plain": [
              "'/content/drive/MyDrive/AI_laboratory_course/dog'"
            ],
            "application/vnd.google.colaboratory.intrinsic+json": {
              "type": "string"
            }
          },
          "metadata": {},
          "execution_count": 35
        }
      ]
    }
  ]
}